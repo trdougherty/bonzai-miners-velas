{
 "cells": [
  {
   "cell_type": "code",
   "execution_count": 1,
   "metadata": {},
   "outputs": [],
   "source": [
    "import json\n",
    "import pandas as pd\n",
    "import os\n",
    "import sys"
   ]
  },
  {
   "cell_type": "code",
   "execution_count": 3,
   "metadata": {},
   "outputs": [
    {
     "data": {
      "text/html": [
       "<div>\n",
       "<style scoped>\n",
       "    .dataframe tbody tr th:only-of-type {\n",
       "        vertical-align: middle;\n",
       "    }\n",
       "\n",
       "    .dataframe tbody tr th {\n",
       "        vertical-align: top;\n",
       "    }\n",
       "\n",
       "    .dataframe thead th {\n",
       "        text-align: right;\n",
       "    }\n",
       "</style>\n",
       "<table border=\"1\" class=\"dataframe\">\n",
       "  <thead>\n",
       "    <tr style=\"text-align: right;\">\n",
       "      <th></th>\n",
       "      <th>company</th>\n",
       "      <th>nodePercent</th>\n",
       "      <th>country</th>\n",
       "      <th>CO2Emissions</th>\n",
       "    </tr>\n",
       "  </thead>\n",
       "  <tbody>\n",
       "    <tr>\n",
       "      <th>0</th>\n",
       "      <td>Lido Finance</td>\n",
       "      <td>0.3100</td>\n",
       "      <td>USA</td>\n",
       "      <td>357</td>\n",
       "    </tr>\n",
       "    <tr>\n",
       "      <th>1</th>\n",
       "      <td>Unlabelled</td>\n",
       "      <td>0.2300</td>\n",
       "      <td>???</td>\n",
       "      <td>321</td>\n",
       "    </tr>\n",
       "    <tr>\n",
       "      <th>2</th>\n",
       "      <td>Coinbase</td>\n",
       "      <td>0.1500</td>\n",
       "      <td>USA</td>\n",
       "      <td>357</td>\n",
       "    </tr>\n",
       "    <tr>\n",
       "      <th>3</th>\n",
       "      <td>Kraken</td>\n",
       "      <td>0.0850</td>\n",
       "      <td>IRL</td>\n",
       "      <td>381</td>\n",
       "    </tr>\n",
       "    <tr>\n",
       "      <th>4</th>\n",
       "      <td>Binance</td>\n",
       "      <td>0.0675</td>\n",
       "      <td>JPN</td>\n",
       "      <td>416</td>\n",
       "    </tr>\n",
       "    <tr>\n",
       "      <th>5</th>\n",
       "      <td>Staked.us</td>\n",
       "      <td>0.0392</td>\n",
       "      <td>USA</td>\n",
       "      <td>357</td>\n",
       "    </tr>\n",
       "    <tr>\n",
       "      <th>6</th>\n",
       "      <td>Bitcoin Suisse</td>\n",
       "      <td>0.0215</td>\n",
       "      <td>CHE</td>\n",
       "      <td>58</td>\n",
       "    </tr>\n",
       "    <tr>\n",
       "      <th>7</th>\n",
       "      <td>Stakefish</td>\n",
       "      <td>0.0208</td>\n",
       "      <td>GBR</td>\n",
       "      <td>265</td>\n",
       "    </tr>\n",
       "    <tr>\n",
       "      <th>8</th>\n",
       "      <td>Rocket Pool</td>\n",
       "      <td>0.0162</td>\n",
       "      <td>???</td>\n",
       "      <td>321</td>\n",
       "    </tr>\n",
       "    <tr>\n",
       "      <th>9</th>\n",
       "      <td>other</td>\n",
       "      <td>0.0742</td>\n",
       "      <td>???</td>\n",
       "      <td>321</td>\n",
       "    </tr>\n",
       "  </tbody>\n",
       "</table>\n",
       "</div>"
      ],
      "text/plain": [
       "          company  nodePercent country  CO2Emissions\n",
       "0    Lido Finance       0.3100     USA           357\n",
       "1      Unlabelled       0.2300     ???           321\n",
       "2        Coinbase       0.1500     USA           357\n",
       "3          Kraken       0.0850     IRL           381\n",
       "4         Binance       0.0675     JPN           416\n",
       "5       Staked.us       0.0392     USA           357\n",
       "6  Bitcoin Suisse       0.0215     CHE            58\n",
       "7       Stakefish       0.0208     GBR           265\n",
       "8     Rocket Pool       0.0162     ???           321\n",
       "9           other       0.0742     ???           321"
      ]
     },
     "execution_count": 3,
     "metadata": {},
     "output_type": "execute_result"
    }
   ],
   "source": [
    "eth_co2 = pd.read_csv('~/Downloads/EthCO2Stake.csv').drop(columns=\"Unnamed: 0\")\n",
    "eth_co2"
   ]
  },
  {
   "cell_type": "code",
   "execution_count": 8,
   "metadata": {},
   "outputs": [
    {
     "data": {
      "text/plain": [
       "{'USA': 357, '???': 321, 'IRL': 381, 'JPN': 416, 'CHE': 58, 'GBR': 265}"
      ]
     },
     "execution_count": 8,
     "metadata": {},
     "output_type": "execute_result"
    }
   ],
   "source": [
    "energymap = dict(zip(eth_co2.country, eth_co2.CO2Emissions))\n",
    "energymap"
   ]
  },
  {
   "cell_type": "code",
   "execution_count": 9,
   "metadata": {},
   "outputs": [],
   "source": [
    "existing_json_path = os.path.join(\"/Users/thomas/Desktop/Work/personal/velas_hack/old-spike/files/original_data.json\")"
   ]
  },
  {
   "cell_type": "code",
   "execution_count": 10,
   "metadata": {},
   "outputs": [],
   "source": [
    "existing_json = json.load(open(existing_json_path))"
   ]
  },
  {
   "cell_type": "code",
   "execution_count": 11,
   "metadata": {},
   "outputs": [],
   "source": [
    "for country in existing_json['objects']['ne_110m_admin_0_countries_lakes']['geometries']:\n",
    "    if country['properties']['ISO_A3'] in energymap.keys():\n",
    "        country['properties']['POP_EST'] = energymap[country['properties']['ISO_A3']]\n",
    "    else:\n",
    "        country['properties']['POP_EST'] = 0"
   ]
  },
  {
   "cell_type": "code",
   "execution_count": 38,
   "metadata": {},
   "outputs": [],
   "source": [
    "# existing_json['objects']['ne_110m_admin_0_countries_lakes']['geometries'];"
   ]
  },
  {
   "cell_type": "code",
   "execution_count": 13,
   "metadata": {},
   "outputs": [],
   "source": [
    "with open('eth_co2_mapdata.json', 'w') as f:\n",
    "    json.dump(existing_json, f)"
   ]
  },
  {
   "cell_type": "code",
   "execution_count": null,
   "metadata": {},
   "outputs": [],
   "source": []
  }
 ],
 "metadata": {
  "kernelspec": {
   "display_name": "Python 3",
   "language": "python",
   "name": "python3"
  },
  "language_info": {
   "codemirror_mode": {
    "name": "ipython",
    "version": 3
   },
   "file_extension": ".py",
   "mimetype": "text/x-python",
   "name": "python",
   "nbconvert_exporter": "python",
   "pygments_lexer": "ipython3",
   "version": "3.6.13"
  },
  "vscode": {
   "interpreter": {
    "hash": "b0fa6594d8f4cbf19f97940f81e996739fb7646882a419484c72d19e05852a7e"
   }
  }
 },
 "nbformat": 4,
 "nbformat_minor": 2
}
